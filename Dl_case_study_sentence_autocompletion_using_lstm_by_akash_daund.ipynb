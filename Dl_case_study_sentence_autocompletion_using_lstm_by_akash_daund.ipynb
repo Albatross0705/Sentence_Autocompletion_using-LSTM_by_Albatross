{
  "cells": [
    {
      "cell_type": "markdown",
      "metadata": {
        "id": "view-in-github",
        "colab_type": "text"
      },
      "source": [
        "<a href=\"https://colab.research.google.com/github/Albatross0705/Sentence_Autocompletion_using-LSTM_by_Albatross/blob/main/Dl_case_study_sentence_autocompletion_using_lstm_by_akash_daund.ipynb\" target=\"_parent\"><img src=\"https://colab.research.google.com/assets/colab-badge.svg\" alt=\"Open In Colab\"/></a>"
      ]
    },
    {
      "cell_type": "markdown",
      "metadata": {
        "id": "za1wQ3NtovnE"
      },
      "source": [
        "# LSTM Implementation"
      ]
    },
    {
      "cell_type": "markdown",
      "metadata": {
        "id": "i8uRuTygovnF"
      },
      "source": [
        "# **Text Preprocessing**"
      ]
    },
    {
      "cell_type": "code",
      "execution_count": null,
      "metadata": {
        "id": "KHhiIFxlovnF"
      },
      "outputs": [],
      "source": [
        "import os\n",
        "import pandas as pd\n",
        "import numpy as np\n",
        "import tensorflow as tf\n",
        "from tensorflow.keras.preprocessing.sequence import pad_sequences\n",
        "from tensorflow.keras.layers import Embedding, LSTM, Dense, Bidirectional\n",
        "from tensorflow.keras.preprocessing.text import Tokenizer\n",
        "from tensorflow.keras.models import Sequential\n",
        "from tensorflow.keras.optimizers import Adam\n",
        "import nltk\n",
        "import re"
      ]
    },
    {
      "cell_type": "code",
      "execution_count": null,
      "metadata": {
        "id": "B6RI4dW6ovnF"
      },
      "outputs": [],
      "source": [
        "# Specify the filename\n",
        "input_file = 'holmes.txt'\n",
        "\n",
        "# Read the contents of the file\n",
        "with open(input_file, 'r', encoding='utf-8') as infile:\n",
        "    data = infile.read()"
      ]
    },
    {
      "cell_type": "code",
      "execution_count": null,
      "metadata": {
        "colab": {
          "base_uri": "https://localhost:8080/",
          "height": 35
        },
        "id": "frJE5FDGovnG",
        "outputId": "d565e2a9-7361-4a9b-8b0f-d2f43fdffc4c"
      },
      "outputs": [
        {
          "output_type": "execute_result",
          "data": {
            "text/plain": [
              "\"*Project Gutenberg's Etext of Tom Swift And His Submarine Boat*\\n\\n#4 in the Victor Appleton's Tom Swi\""
            ],
            "application/vnd.google.colaboratory.intrinsic+json": {
              "type": "string"
            }
          },
          "metadata": {},
          "execution_count": 3
        }
      ],
      "source": [
        "data[:100] # view first few characters"
      ]
    },
    {
      "cell_type": "code",
      "execution_count": null,
      "metadata": {
        "id": "LlkSo3E4ovnG"
      },
      "outputs": [],
      "source": [
        "# Limit data to 500000 characters\n",
        "data = data[:500000]"
      ]
    },
    {
      "cell_type": "markdown",
      "metadata": {
        "id": "IIlbbasxovnG"
      },
      "source": [
        "# Clean Text"
      ]
    },
    {
      "cell_type": "code",
      "execution_count": null,
      "metadata": {
        "id": "9Q_z0lDLovnG"
      },
      "outputs": [],
      "source": [
        "# Function to remove emojis and special characters from text\n",
        "def remove_emojis_and_special_characters(text):\n",
        "\n",
        "    # Remove special characters\n",
        "    text = re.sub(r'[^a-zA-Z0-9\\s]', '', text)\n",
        "\n",
        "    # Remove extra spaces\n",
        "    text = re.sub(' +', ' ', text)\n",
        "\n",
        "    return text"
      ]
    },
    {
      "cell_type": "code",
      "execution_count": null,
      "metadata": {
        "id": "BtppYEjEovnG"
      },
      "outputs": [],
      "source": [
        "# Preprocessing pipeline\n",
        "def preprocess_pipeline(data) -> 'list':\n",
        "    # Split by newline character\n",
        "    sentences = data.split('\\n')\n",
        "    for i in range(len(sentences)):\n",
        "        sentences[i] = remove_emojis_and_special_characters(sentences[i])\n",
        "    # Remove leading and trailing spaces\n",
        "    sentences = [s.strip() for s in sentences]\n",
        "    # Drop empty sentences\n",
        "    sentences = [s for s in sentences if len(s) > 0]\n",
        "    # Tokenization\n",
        "    tokenized = []\n",
        "    for sentence in sentences:\n",
        "        # Convert to lowercase\n",
        "        sentence = sentence.lower()\n",
        "        tokenized.append(sentence)\n",
        "    return tokenized\n",
        "\n",
        "# Tokenize sentences\n",
        "tokenized_sentences = preprocess_pipeline(data)"
      ]
    },
    {
      "cell_type": "code",
      "execution_count": null,
      "metadata": {
        "id": "vpTLfEKJovnH"
      },
      "outputs": [],
      "source": [
        "# Tokenize words\n",
        "tokenizer = Tokenizer(oov_token='<oov>')\n",
        "tokenizer.fit_on_texts(tokenized_sentences)\n",
        "total_words = len(tokenizer.word_index) + 1\n",
        "\n",
        "# Generate input sequences\n",
        "input_sequences = []\n",
        "for line in tokenized_sentences:\n",
        "    token_list = tokenizer.texts_to_sequences([line])[0]\n",
        "    for i in range(1, len(token_list)):\n",
        "        n_gram_sequence = token_list[:i + 1]\n",
        "        input_sequences.append(n_gram_sequence)\n",
        "\n",
        "# Pad sequences\n",
        "max_sequence_len = max([len(x) for x in input_sequences])\n",
        "input_sequences = np.array(pad_sequences(input_sequences, maxlen=max_sequence_len, padding='pre'))"
      ]
    },
    {
      "cell_type": "code",
      "execution_count": null,
      "metadata": {
        "id": "NuDJqRCQovnH"
      },
      "outputs": [],
      "source": [
        "# Creates labels with input sequences\n",
        "X,labels = input_sequences[:,:-1],input_sequences[:,-1]\n",
        "ys = tf.keras.utils.to_categorical(labels, num_classes=total_words)"
      ]
    },
    {
      "cell_type": "code",
      "execution_count": null,
      "metadata": {
        "execution": {
          "iopub.execute_input": "2024-04-11T05:32:13.168190Z",
          "iopub.status.busy": "2024-04-11T05:32:13.167751Z",
          "iopub.status.idle": "2024-04-11T05:32:20.041506Z",
          "shell.execute_reply": "2024-04-11T05:32:20.040383Z",
          "shell.execute_reply.started": "2024-04-11T05:32:13.168137Z"
        },
        "id": "gYkadQ8povnH"
      },
      "outputs": [],
      "source": [
        "# Split data into training, validation, and test sets\n",
        "from sklearn.model_selection import train_test_split\n",
        "X_train_temp, X_val_test, y_train_temp, y_val_test = train_test_split(X, ys, test_size=0.2, random_state=42)\n",
        "X_val, X_test, y_val, y_test = train_test_split(X_val_test, y_val_test, test_size=0.5, random_state=42)"
      ]
    },
    {
      "cell_type": "code",
      "source": [
        "X_train_temp"
      ],
      "metadata": {
        "colab": {
          "base_uri": "https://localhost:8080/"
        },
        "id": "2dsU0rE9qH0J",
        "outputId": "be37b84e-4bf3-402c-e4b2-c80dbb4f741d"
      },
      "execution_count": null,
      "outputs": [
        {
          "output_type": "execute_result",
          "data": {
            "text/plain": [
              "array([[   0,    0,    0, ...,    0,    0,  227],\n",
              "       [   0,    0,    0, ...,    0,    0, 1377],\n",
              "       [   0,    0,    0, ...,    0,    0, 1112],\n",
              "       ...,\n",
              "       [   0,    0,    0, ...,    0,    0,  108],\n",
              "       [   0,    0,    0, ...,    2,  716,  631],\n",
              "       [   0,    0,    0, ...,   27,    2,  699]], dtype=int32)"
            ]
          },
          "metadata": {},
          "execution_count": 10
        }
      ]
    },
    {
      "cell_type": "markdown",
      "metadata": {
        "id": "wqDmS2zbovnH"
      },
      "source": [
        "# Train LSTM Model"
      ]
    },
    {
      "cell_type": "code",
      "execution_count": null,
      "metadata": {
        "execution": {
          "iopub.execute_input": "2024-04-11T06:50:19.346868Z",
          "iopub.status.busy": "2024-04-11T06:50:19.345839Z",
          "iopub.status.idle": "2024-04-11T07:17:23.071736Z",
          "shell.execute_reply": "2024-04-11T07:17:23.070573Z",
          "shell.execute_reply.started": "2024-04-11T06:50:19.346830Z"
        },
        "colab": {
          "base_uri": "https://localhost:8080/"
        },
        "id": "REoir2kmovnH",
        "outputId": "61526632-3697-45ba-a2c2-be012d62fe89"
      },
      "outputs": [
        {
          "output_type": "stream",
          "name": "stdout",
          "text": [
            "Epoch 1/50\n",
            "\u001b[1m2002/2002\u001b[0m \u001b[32m━━━━━━━━━━━━━━━━━━━━\u001b[0m\u001b[37m\u001b[0m \u001b[1m25s\u001b[0m 9ms/step - accuracy: 0.0918 - loss: 6.4498 - val_accuracy: 0.1235 - val_loss: 6.2460\n",
            "Epoch 2/50\n",
            "\u001b[1m2002/2002\u001b[0m \u001b[32m━━━━━━━━━━━━━━━━━━━━\u001b[0m\u001b[37m\u001b[0m \u001b[1m36s\u001b[0m 8ms/step - accuracy: 0.1366 - loss: 5.7708 - val_accuracy: 0.1410 - val_loss: 6.1632\n",
            "Epoch 3/50\n",
            "\u001b[1m2002/2002\u001b[0m \u001b[32m━━━━━━━━━━━━━━━━━━━━\u001b[0m\u001b[37m\u001b[0m \u001b[1m21s\u001b[0m 9ms/step - accuracy: 0.1569 - loss: 5.0706 - val_accuracy: 0.1363 - val_loss: 6.4045\n",
            "Epoch 4/50\n",
            "\u001b[1m2002/2002\u001b[0m \u001b[32m━━━━━━━━━━━━━━━━━━━━\u001b[0m\u001b[37m\u001b[0m \u001b[1m21s\u001b[0m 9ms/step - accuracy: 0.1662 - loss: 4.8023 - val_accuracy: 0.1409 - val_loss: 6.6202\n",
            "Epoch 5/50\n",
            "\u001b[1m2002/2002\u001b[0m \u001b[32m━━━━━━━━━━━━━━━━━━━━\u001b[0m\u001b[37m\u001b[0m \u001b[1m20s\u001b[0m 8ms/step - accuracy: 0.1868 - loss: 4.4684 - val_accuracy: 0.1398 - val_loss: 7.0127\n",
            "Epoch 6/50\n",
            "\u001b[1m2002/2002\u001b[0m \u001b[32m━━━━━━━━━━━━━━━━━━━━\u001b[0m\u001b[37m\u001b[0m \u001b[1m17s\u001b[0m 8ms/step - accuracy: 0.1990 - loss: 4.2855 - val_accuracy: 0.1329 - val_loss: 7.3068\n",
            "Epoch 7/50\n",
            "\u001b[1m2002/2002\u001b[0m \u001b[32m━━━━━━━━━━━━━━━━━━━━\u001b[0m\u001b[37m\u001b[0m \u001b[1m20s\u001b[0m 8ms/step - accuracy: 0.2109 - loss: 4.1022 - val_accuracy: 0.1341 - val_loss: 7.5821\n",
            "Epoch 8/50\n",
            "\u001b[1m2002/2002\u001b[0m \u001b[32m━━━━━━━━━━━━━━━━━━━━\u001b[0m\u001b[37m\u001b[0m \u001b[1m22s\u001b[0m 9ms/step - accuracy: 0.2175 - loss: 4.0209 - val_accuracy: 0.1338 - val_loss: 8.0048\n",
            "Epoch 9/50\n",
            "\u001b[1m2002/2002\u001b[0m \u001b[32m━━━━━━━━━━━━━━━━━━━━\u001b[0m\u001b[37m\u001b[0m \u001b[1m20s\u001b[0m 9ms/step - accuracy: 0.2194 - loss: 4.0199 - val_accuracy: 0.1272 - val_loss: 8.2274\n",
            "Epoch 10/50\n",
            "\u001b[1m2002/2002\u001b[0m \u001b[32m━━━━━━━━━━━━━━━━━━━━\u001b[0m\u001b[37m\u001b[0m \u001b[1m20s\u001b[0m 9ms/step - accuracy: 0.2268 - loss: 3.8976 - val_accuracy: 0.1309 - val_loss: 8.3958\n",
            "Epoch 11/50\n",
            "\u001b[1m2002/2002\u001b[0m \u001b[32m━━━━━━━━━━━━━━━━━━━━\u001b[0m\u001b[37m\u001b[0m \u001b[1m21s\u001b[0m 9ms/step - accuracy: 0.2370 - loss: 3.8802 - val_accuracy: 0.1262 - val_loss: 8.8213\n",
            "Epoch 12/50\n",
            "\u001b[1m2002/2002\u001b[0m \u001b[32m━━━━━━━━━━━━━━━━━━━━\u001b[0m\u001b[37m\u001b[0m \u001b[1m20s\u001b[0m 9ms/step - accuracy: 0.2381 - loss: 3.8534 - val_accuracy: 0.1280 - val_loss: 8.8736\n",
            "Epoch 13/50\n",
            "\u001b[1m2002/2002\u001b[0m \u001b[32m━━━━━━━━━━━━━━━━━━━━\u001b[0m\u001b[37m\u001b[0m \u001b[1m20s\u001b[0m 9ms/step - accuracy: 0.2437 - loss: 3.7846 - val_accuracy: 0.1325 - val_loss: 9.2188\n",
            "Epoch 14/50\n",
            "\u001b[1m2002/2002\u001b[0m \u001b[32m━━━━━━━━━━━━━━━━━━━━\u001b[0m\u001b[37m\u001b[0m \u001b[1m21s\u001b[0m 9ms/step - accuracy: 0.2463 - loss: 3.7673 - val_accuracy: 0.1215 - val_loss: 9.4934\n",
            "Epoch 15/50\n",
            "\u001b[1m2002/2002\u001b[0m \u001b[32m━━━━━━━━━━━━━━━━━━━━\u001b[0m\u001b[37m\u001b[0m \u001b[1m20s\u001b[0m 9ms/step - accuracy: 0.2537 - loss: 3.7154 - val_accuracy: 0.1285 - val_loss: 9.6003\n",
            "Epoch 16/50\n",
            "\u001b[1m2002/2002\u001b[0m \u001b[32m━━━━━━━━━━━━━━━━━━━━\u001b[0m\u001b[37m\u001b[0m \u001b[1m20s\u001b[0m 9ms/step - accuracy: 0.2506 - loss: 3.7299 - val_accuracy: 0.1280 - val_loss: 9.7467\n",
            "Epoch 17/50\n",
            "\u001b[1m2002/2002\u001b[0m \u001b[32m━━━━━━━━━━━━━━━━━━━━\u001b[0m\u001b[37m\u001b[0m \u001b[1m20s\u001b[0m 9ms/step - accuracy: 0.2552 - loss: 3.6968 - val_accuracy: 0.1269 - val_loss: 10.0393\n",
            "Epoch 18/50\n",
            "\u001b[1m2002/2002\u001b[0m \u001b[32m━━━━━━━━━━━━━━━━━━━━\u001b[0m\u001b[37m\u001b[0m \u001b[1m18s\u001b[0m 9ms/step - accuracy: 0.2609 - loss: 3.6747 - val_accuracy: 0.1283 - val_loss: 10.2906\n",
            "Epoch 19/50\n",
            "\u001b[1m2002/2002\u001b[0m \u001b[32m━━━━━━━━━━━━━━━━━━━━\u001b[0m\u001b[37m\u001b[0m \u001b[1m20s\u001b[0m 9ms/step - accuracy: 0.2665 - loss: 3.5939 - val_accuracy: 0.1343 - val_loss: 10.3665\n",
            "Epoch 20/50\n",
            "\u001b[1m2002/2002\u001b[0m \u001b[32m━━━━━━━━━━━━━━━━━━━━\u001b[0m\u001b[37m\u001b[0m \u001b[1m20s\u001b[0m 9ms/step - accuracy: 0.2665 - loss: 3.5987 - val_accuracy: 0.1319 - val_loss: 10.4058\n",
            "Epoch 21/50\n",
            "\u001b[1m2002/2002\u001b[0m \u001b[32m━━━━━━━━━━━━━━━━━━━━\u001b[0m\u001b[37m\u001b[0m \u001b[1m17s\u001b[0m 9ms/step - accuracy: 0.2738 - loss: 3.5480 - val_accuracy: 0.1243 - val_loss: 10.5959\n",
            "Epoch 22/50\n",
            "\u001b[1m2002/2002\u001b[0m \u001b[32m━━━━━━━━━━━━━━━━━━━━\u001b[0m\u001b[37m\u001b[0m \u001b[1m20s\u001b[0m 8ms/step - accuracy: 0.2751 - loss: 3.5420 - val_accuracy: 0.1247 - val_loss: 10.7683\n",
            "Epoch 23/50\n",
            "\u001b[1m2002/2002\u001b[0m \u001b[32m━━━━━━━━━━━━━━━━━━━━\u001b[0m\u001b[37m\u001b[0m \u001b[1m21s\u001b[0m 9ms/step - accuracy: 0.2770 - loss: 3.5450 - val_accuracy: 0.1240 - val_loss: 10.9031\n",
            "Epoch 24/50\n",
            "\u001b[1m2002/2002\u001b[0m \u001b[32m━━━━━━━━━━━━━━━━━━━━\u001b[0m\u001b[37m\u001b[0m \u001b[1m20s\u001b[0m 8ms/step - accuracy: 0.2806 - loss: 3.5187 - val_accuracy: 0.1258 - val_loss: 11.3603\n",
            "Epoch 25/50\n",
            "\u001b[1m2002/2002\u001b[0m \u001b[32m━━━━━━━━━━━━━━━━━━━━\u001b[0m\u001b[37m\u001b[0m \u001b[1m18s\u001b[0m 9ms/step - accuracy: 0.2791 - loss: 3.5578 - val_accuracy: 0.1257 - val_loss: 11.4771\n",
            "Epoch 26/50\n",
            "\u001b[1m2002/2002\u001b[0m \u001b[32m━━━━━━━━━━━━━━━━━━━━\u001b[0m\u001b[37m\u001b[0m \u001b[1m20s\u001b[0m 9ms/step - accuracy: 0.2806 - loss: 3.5545 - val_accuracy: 0.1203 - val_loss: 11.6041\n",
            "Epoch 27/50\n",
            "\u001b[1m2002/2002\u001b[0m \u001b[32m━━━━━━━━━━━━━━━━━━━━\u001b[0m\u001b[37m\u001b[0m \u001b[1m20s\u001b[0m 9ms/step - accuracy: 0.2798 - loss: 3.5878 - val_accuracy: 0.1199 - val_loss: 11.7441\n",
            "Epoch 28/50\n",
            "\u001b[1m2002/2002\u001b[0m \u001b[32m━━━━━━━━━━━━━━━━━━━━\u001b[0m\u001b[37m\u001b[0m \u001b[1m21s\u001b[0m 9ms/step - accuracy: 0.2791 - loss: 3.5654 - val_accuracy: 0.1247 - val_loss: 11.9508\n",
            "Epoch 29/50\n",
            "\u001b[1m2002/2002\u001b[0m \u001b[32m━━━━━━━━━━━━━━━━━━━━\u001b[0m\u001b[37m\u001b[0m \u001b[1m20s\u001b[0m 9ms/step - accuracy: 0.2803 - loss: 3.6090 - val_accuracy: 0.1115 - val_loss: 12.1510\n",
            "Epoch 30/50\n",
            "\u001b[1m2002/2002\u001b[0m \u001b[32m━━━━━━━━━━━━━━━━━━━━\u001b[0m\u001b[37m\u001b[0m \u001b[1m21s\u001b[0m 9ms/step - accuracy: 0.2718 - loss: 3.7175 - val_accuracy: 0.1237 - val_loss: 12.1771\n",
            "Epoch 31/50\n",
            "\u001b[1m2002/2002\u001b[0m \u001b[32m━━━━━━━━━━━━━━━━━━━━\u001b[0m\u001b[37m\u001b[0m \u001b[1m20s\u001b[0m 9ms/step - accuracy: 0.2863 - loss: 3.5764 - val_accuracy: 0.1293 - val_loss: 12.1712\n",
            "Epoch 32/50\n",
            "\u001b[1m2002/2002\u001b[0m \u001b[32m━━━━━━━━━━━━━━━━━━━━\u001b[0m\u001b[37m\u001b[0m \u001b[1m20s\u001b[0m 9ms/step - accuracy: 0.2864 - loss: 3.5627 - val_accuracy: 0.1312 - val_loss: 12.2073\n",
            "Epoch 33/50\n",
            "\u001b[1m2002/2002\u001b[0m \u001b[32m━━━━━━━━━━━━━━━━━━━━\u001b[0m\u001b[37m\u001b[0m \u001b[1m17s\u001b[0m 9ms/step - accuracy: 0.2875 - loss: 3.5226 - val_accuracy: 0.1313 - val_loss: 12.3534\n",
            "Epoch 34/50\n",
            "\u001b[1m2002/2002\u001b[0m \u001b[32m━━━━━━━━━━━━━━━━━━━━\u001b[0m\u001b[37m\u001b[0m \u001b[1m20s\u001b[0m 9ms/step - accuracy: 0.2914 - loss: 3.5177 - val_accuracy: 0.1177 - val_loss: 12.4067\n",
            "Epoch 35/50\n",
            "\u001b[1m2002/2002\u001b[0m \u001b[32m━━━━━━━━━━━━━━━━━━━━\u001b[0m\u001b[37m\u001b[0m \u001b[1m21s\u001b[0m 9ms/step - accuracy: 0.2921 - loss: 3.5100 - val_accuracy: 0.1224 - val_loss: 12.4609\n",
            "Epoch 36/50\n",
            "\u001b[1m2002/2002\u001b[0m \u001b[32m━━━━━━━━━━━━━━━━━━━━\u001b[0m\u001b[37m\u001b[0m \u001b[1m21s\u001b[0m 9ms/step - accuracy: 0.2975 - loss: 3.4876 - val_accuracy: 0.1239 - val_loss: 12.6364\n",
            "Epoch 37/50\n",
            "\u001b[1m2002/2002\u001b[0m \u001b[32m━━━━━━━━━━━━━━━━━━━━\u001b[0m\u001b[37m\u001b[0m \u001b[1m20s\u001b[0m 9ms/step - accuracy: 0.2986 - loss: 3.4732 - val_accuracy: 0.1230 - val_loss: 12.4549\n",
            "Epoch 38/50\n",
            "\u001b[1m2002/2002\u001b[0m \u001b[32m━━━━━━━━━━━━━━━━━━━━\u001b[0m\u001b[37m\u001b[0m \u001b[1m21s\u001b[0m 9ms/step - accuracy: 0.2960 - loss: 3.5068 - val_accuracy: 0.1220 - val_loss: 12.8283\n",
            "Epoch 39/50\n",
            "\u001b[1m2002/2002\u001b[0m \u001b[32m━━━━━━━━━━━━━━━━━━━━\u001b[0m\u001b[37m\u001b[0m \u001b[1m20s\u001b[0m 9ms/step - accuracy: 0.2923 - loss: 3.5293 - val_accuracy: 0.1197 - val_loss: 12.8483\n",
            "Epoch 40/50\n",
            "\u001b[1m2002/2002\u001b[0m \u001b[32m━━━━━━━━━━━━━━━━━━━━\u001b[0m\u001b[37m\u001b[0m \u001b[1m18s\u001b[0m 9ms/step - accuracy: 0.2995 - loss: 3.4289 - val_accuracy: 0.1298 - val_loss: 12.9453\n",
            "Epoch 41/50\n",
            "\u001b[1m2002/2002\u001b[0m \u001b[32m━━━━━━━━━━━━━━━━━━━━\u001b[0m\u001b[37m\u001b[0m \u001b[1m20s\u001b[0m 9ms/step - accuracy: 0.2973 - loss: 3.4249 - val_accuracy: 0.1277 - val_loss: 13.1400\n",
            "Epoch 42/50\n",
            "\u001b[1m2002/2002\u001b[0m \u001b[32m━━━━━━━━━━━━━━━━━━━━\u001b[0m\u001b[37m\u001b[0m \u001b[1m18s\u001b[0m 9ms/step - accuracy: 0.3072 - loss: 3.3921 - val_accuracy: 0.1218 - val_loss: 13.3339\n",
            "Epoch 43/50\n",
            "\u001b[1m2002/2002\u001b[0m \u001b[32m━━━━━━━━━━━━━━━━━━━━\u001b[0m\u001b[37m\u001b[0m \u001b[1m20s\u001b[0m 9ms/step - accuracy: 0.3062 - loss: 3.4213 - val_accuracy: 0.1260 - val_loss: 13.3986\n",
            "Epoch 44/50\n",
            "\u001b[1m2002/2002\u001b[0m \u001b[32m━━━━━━━━━━━━━━━━━━━━\u001b[0m\u001b[37m\u001b[0m \u001b[1m21s\u001b[0m 9ms/step - accuracy: 0.3049 - loss: 3.4020 - val_accuracy: 0.1270 - val_loss: 13.4803\n",
            "Epoch 45/50\n",
            "\u001b[1m2002/2002\u001b[0m \u001b[32m━━━━━━━━━━━━━━━━━━━━\u001b[0m\u001b[37m\u001b[0m \u001b[1m20s\u001b[0m 9ms/step - accuracy: 0.3116 - loss: 3.3730 - val_accuracy: 0.1273 - val_loss: 13.5457\n",
            "Epoch 46/50\n",
            "\u001b[1m2002/2002\u001b[0m \u001b[32m━━━━━━━━━━━━━━━━━━━━\u001b[0m\u001b[37m\u001b[0m \u001b[1m20s\u001b[0m 9ms/step - accuracy: 0.3035 - loss: 3.4237 - val_accuracy: 0.1217 - val_loss: 13.8174\n",
            "Epoch 47/50\n",
            "\u001b[1m2002/2002\u001b[0m \u001b[32m━━━━━━━━━━━━━━━━━━━━\u001b[0m\u001b[37m\u001b[0m \u001b[1m18s\u001b[0m 9ms/step - accuracy: 0.3018 - loss: 3.4814 - val_accuracy: 0.1175 - val_loss: 13.7663\n",
            "Epoch 48/50\n",
            "\u001b[1m2002/2002\u001b[0m \u001b[32m━━━━━━━━━━━━━━━━━━━━\u001b[0m\u001b[37m\u001b[0m \u001b[1m18s\u001b[0m 9ms/step - accuracy: 0.3096 - loss: 3.4245 - val_accuracy: 0.1249 - val_loss: 14.2090\n",
            "Epoch 49/50\n",
            "\u001b[1m2002/2002\u001b[0m \u001b[32m━━━━━━━━━━━━━━━━━━━━\u001b[0m\u001b[37m\u001b[0m \u001b[1m20s\u001b[0m 9ms/step - accuracy: 0.3022 - loss: 3.4715 - val_accuracy: 0.1207 - val_loss: 14.1838\n",
            "Epoch 50/50\n",
            "\u001b[1m2002/2002\u001b[0m \u001b[32m━━━━━━━━━━━━━━━━━━━━\u001b[0m\u001b[37m\u001b[0m \u001b[1m20s\u001b[0m 9ms/step - accuracy: 0.3055 - loss: 3.4670 - val_accuracy: 0.1260 - val_loss: 14.1854\n"
          ]
        }
      ],
      "source": [
        "# Define your model\n",
        "model = Sequential()\n",
        "model.add(Embedding(total_words, 100))\n",
        "model.add(Bidirectional(LSTM(150)))\n",
        "model.add(Dense(total_words, activation='softmax'))\n",
        "\n",
        "adam = Adam(learning_rate=0.01)\n",
        "model.compile(loss='categorical_crossentropy', optimizer=adam, metrics=['accuracy'])\n",
        "\n",
        "# Train the model\n",
        "history = model.fit(X_train_temp, y_train_temp, epochs=50, validation_data=(X_val, y_val), verbose=1)"
      ]
    },
    {
      "cell_type": "markdown",
      "metadata": {
        "id": "QFcNkYOFovnI"
      },
      "source": [
        "# Save Models (Weights and biases)"
      ]
    },
    {
      "cell_type": "code",
      "execution_count": null,
      "metadata": {
        "execution": {
          "iopub.execute_input": "2024-04-11T07:17:23.074643Z",
          "iopub.status.busy": "2024-04-11T07:17:23.074319Z",
          "iopub.status.idle": "2024-04-11T07:17:23.216893Z",
          "shell.execute_reply": "2024-04-11T07:17:23.215911Z",
          "shell.execute_reply.started": "2024-04-11T07:17:23.074617Z"
        },
        "id": "1T9K62s8ovnI"
      },
      "outputs": [],
      "source": [
        "# Save model architecture as JSON file\n",
        "from tensorflow.keras.models import model_from_json\n",
        "\n",
        "model_json = model.to_json()\n",
        "with open(\"lstm_model1.json\", \"w\") as json_file:\n",
        "    json_file.write(model_json)"
      ]
    },
    {
      "cell_type": "code",
      "execution_count": null,
      "metadata": {
        "colab": {
          "base_uri": "https://localhost:8080/"
        },
        "id": "JqbtR1vWovnI",
        "outputId": "47bd0fc2-928e-43fd-c216-15eeff6d84d3"
      },
      "outputs": [
        {
          "output_type": "stream",
          "name": "stdout",
          "text": [
            "Model architecture loaded successfully from JSON file.\n"
          ]
        }
      ],
      "source": [
        "# Load model architecture from JSON file\n",
        "from tensorflow.keras.models import model_from_json\n",
        "\n",
        "with open(\"lstm_model1.json\", \"r\") as json_file:\n",
        "    loaded_model_json = json_file.read()\n",
        "\n",
        "# Create model from loaded architecture\n",
        "loaded_model = model_from_json(loaded_model_json)\n",
        "\n",
        "print(\"Model architecture loaded successfully from JSON file.\")"
      ]
    },
    {
      "cell_type": "code",
      "execution_count": null,
      "metadata": {
        "execution": {
          "iopub.execute_input": "2024-04-11T06:04:13.104775Z",
          "iopub.status.busy": "2024-04-11T06:04:13.104349Z",
          "iopub.status.idle": "2024-04-11T06:04:13.406339Z",
          "shell.execute_reply": "2024-04-11T06:04:13.404737Z",
          "shell.execute_reply.started": "2024-04-11T06:04:13.104743Z"
        },
        "id": "M1grm6yDovnI"
      },
      "outputs": [],
      "source": [
        "import matplotlib.pyplot as plt\n",
        "import seaborn as sns\n",
        "from sklearn.metrics import confusion_matrix\n"
      ]
    },
    {
      "cell_type": "code",
      "execution_count": null,
      "metadata": {
        "execution": {
          "iopub.execute_input": "2024-04-11T06:04:14.332289Z",
          "iopub.status.busy": "2024-04-11T06:04:14.331600Z",
          "iopub.status.idle": "2024-04-11T06:04:15.028083Z",
          "shell.execute_reply": "2024-04-11T06:04:15.026976Z",
          "shell.execute_reply.started": "2024-04-11T06:04:14.332254Z"
        },
        "colab": {
          "base_uri": "https://localhost:8080/",
          "height": 927
        },
        "id": "i52TM4wWovnI",
        "outputId": "22c7b66b-3659-4f6b-aef6-2f50b8312de1"
      },
      "outputs": [
        {
          "output_type": "display_data",
          "data": {
            "text/plain": [
              "<Figure size 640x480 with 1 Axes>"
            ],
            "image/png": "[encoded data removed]"
          },
          "metadata": {}
        },
        {
          "output_type": "display_data",
          "data": {
            "text/plain": [
              "<Figure size 640x480 with 1 Axes>"
            ],
            "image/png": "[encoded data removed]"
          },
          "metadata": {}
        }
      ],
      "source": [
        "\n",
        "# Plot Loss\n",
        "plt.plot(history.history['loss'], label='Training Loss')\n",
        "plt.plot(history.history['val_loss'], label='Validation Loss')\n",
        "plt.title('Training and Validation Loss')\n",
        "plt.xlabel('Epochs')\n",
        "plt.ylabel('Loss')\n",
        "plt.legend()\n",
        "plt.show()\n",
        "\n",
        "# Plot Accuracy\n",
        "plt.plot(history.history['accuracy'], label='Training Accuracy')\n",
        "plt.plot(history.history['val_accuracy'], label='Validation Accuracy')\n",
        "plt.title('Training and Validation Accuracy')\n",
        "plt.xlabel('Epochs')\n",
        "plt.ylabel('Accuracy')\n",
        "plt.legend()\n",
        "plt.show()\n"
      ]
    },
    {
      "cell_type": "markdown",
      "metadata": {
        "id": "-4olQ0bjovnI"
      },
      "source": [
        "# Inferences"
      ]
    },
    {
      "cell_type": "code",
      "source": [
        "from IPython.display import display, HTML\n",
        "import numpy as np\n",
        "from tensorflow.keras.preprocessing.sequence import pad_sequences\n",
        "\n",
        "def predict_top_five_words(model, tokenizer, seed_text):\n",
        "    token_list = tokenizer.texts_to_sequences([seed_text])[0]\n",
        "    token_list = pad_sequences([token_list], maxlen=max_sequence_len-1, padding='pre')\n",
        "    predicted = model.predict(token_list, verbose=0)\n",
        "    top_five_indexes = np.argsort(predicted[0])[::-1][:5]\n",
        "    top_five_words = [tokenizer.index_word[index] for index in top_five_indexes if index in tokenizer.index_word]\n",
        "    return top_five_words\n",
        "\n",
        "def predict_and_display_top_five_words(seed_text, model, tokenizer):\n",
        "    top_five_words = predict_top_five_words(model, tokenizer, seed_text)\n",
        "    heading_app = \"<h1>Sentence AutoCompletion App With Five Outputs</h1>\"\n",
        "    output_text = \"<ul>\" + \"\".join([f\"<li>{seed_text} {word}</li>\" for word in top_five_words]) + \"</ul>\"\n",
        "    display(HTML(f\"{heading_app}<br><hr>{output_text}\"))\n"
      ],
      "metadata": {
        "id": "CKxeFUpWwYwI"
      },
      "execution_count": null,
      "outputs": []
    },
    {
      "cell_type": "code",
      "execution_count": null,
      "metadata": {
        "execution": {
          "iopub.execute_input": "2024-04-11T07:22:36.745099Z",
          "iopub.status.busy": "2024-04-11T07:22:36.744339Z",
          "iopub.status.idle": "2024-04-11T07:22:36.822230Z",
          "shell.execute_reply": "2024-04-11T07:22:36.821207Z",
          "shell.execute_reply.started": "2024-04-11T07:22:36.745061Z"
        },
        "colab": {
          "base_uri": "https://localhost:8080/",
          "height": 201
        },
        "id": "sJDwFY5UovnJ",
        "outputId": "051e4b49-d735-4f23-a8e2-fa56a3939e31"
      },
      "outputs": [
        {
          "output_type": "display_data",
          "data": {
            "text/plain": [
              "<IPython.core.display.HTML object>"
            ],
            "text/html": [
              "<h1>Sentence AutoCompletion App With Five Outputs</h1><br><hr><ul><li>i am akash i am data scientist i was flew</li><li>i am akash i am data scientist i was safer</li><li>i am akash i am data scientist i was readers</li><li>i am akash i am data scientist i was upa</li><li>i am akash i am data scientist i was wish</li></ul>"
            ]
          },
          "metadata": {}
        }
      ],
      "source": [
        "# Test the function\n",
        "seed_text = \"i am akash i am data scientist i was\"\n",
        "predict_and_display_top_five_words(seed_text, loaded_model, tokenizer)"
      ]
    },
    {
      "cell_type": "code",
      "execution_count": null,
      "metadata": {
        "execution": {
          "iopub.execute_input": "2024-04-11T06:32:59.206205Z",
          "iopub.status.busy": "2024-04-11T06:32:59.205113Z",
          "iopub.status.idle": "2024-04-11T06:32:59.281620Z",
          "shell.execute_reply": "2024-04-11T06:32:59.280559Z",
          "shell.execute_reply.started": "2024-04-11T06:32:59.206146Z"
        },
        "colab": {
          "base_uri": "https://localhost:8080/",
          "height": 201
        },
        "id": "8w2JRGdNovnJ",
        "outputId": "c5b45975-0a69-4528-d876-fc3ddd327c75"
      },
      "outputs": [
        {
          "output_type": "display_data",
          "data": {
            "text/plain": [
              "<IPython.core.display.HTML object>"
            ],
            "text/html": [
              "<h1>Sentence AutoCompletion App With Five Outputs</h1><br><hr><ul><li>Sorry sir, it happens by mistakely, I'm giving you access right now promoters</li><li>Sorry sir, it happens by mistakely, I'm giving you access right now readers</li><li>Sorry sir, it happens by mistakely, I'm giving you access right now hope</li><li>Sorry sir, it happens by mistakely, I'm giving you access right now flew</li><li>Sorry sir, it happens by mistakely, I'm giving you access right now install</li></ul>"
            ]
          },
          "metadata": {}
        }
      ],
      "source": [
        "# Test 2:\n",
        "# Test the function\n",
        "seed_text = \"Sorry sir, it happens by mistakely, I'm giving you access right now\"\n",
        "predict_and_display_top_five_words(seed_text, loaded_model, tokenizer)"
      ]
    },
    {
      "cell_type": "code",
      "source": [
        "import gradio as gr\n",
        "import numpy as np\n",
        "from tensorflow.keras.preprocessing.sequence import pad_sequences\n",
        "\n",
        "def predict_top_five_words(model, tokenizer, seed_text, max_sequence_len):\n",
        "    token_list = tokenizer.texts_to_sequences([seed_text])[0]\n",
        "    token_list = pad_sequences([token_list], maxlen=max_sequence_len-1, padding='pre')\n",
        "    predicted = model.predict(token_list, verbose=0)\n",
        "    top_five_indexes = np.argsort(predicted[0])[::-1][:5]\n",
        "    top_five_words = [tokenizer.index_word[index] for index in top_five_indexes if index in tokenizer.index_word]\n",
        "    return top_five_words\n",
        "\n",
        "def predict_and_display_top_five_words(seed_text, model, tokenizer, max_sequence_len):\n",
        "    top_five_words = predict_top_five_words(model, tokenizer, seed_text, max_sequence_len)\n",
        "    output_text = \"\\n\".join([f\"{seed_text} {word}\" for word in top_five_words])\n",
        "    return output_text\n",
        "\n",
        "# Define the Gradio interface\n",
        "def gradio_interface(Your_text):\n",
        "    # Replace 'model' and 'tokenizer' with your actual model and tokenizer\n",
        "    return predict_and_display_top_five_words(Your_text, model, tokenizer, max_sequence_len)\n",
        "\n",
        "iface = gr.Interface(\n",
        "    fn=gradio_interface,\n",
        "    inputs=gr.Textbox(lines=2, placeholder=\"Enter seed text here...\"),\n",
        "    outputs=gr.Textbox(label=\"Top Five Predictions\"),\n",
        "    title=\"Sentence AutoCompletion App\",\n",
        "    description=\"Enter a seed text and get the top five predicted words.\"\n",
        ")\n",
        "\n",
        "# Launch the interface\n",
        "iface.launch()\n"
      ],
      "metadata": {
        "colab": {
          "base_uri": "https://localhost:8080/",
          "height": 626
        },
        "id": "Z4wptMsO0OfV",
        "outputId": "a7418afd-acb8-4d3b-a924-f4d88e7b06c0"
      },
      "execution_count": null,
      "outputs": [
        {
          "output_type": "stream",
          "name": "stdout",
          "text": [
            "Setting queue=True in a Colab notebook requires sharing enabled. Setting `share=True` (you can turn this off by setting `share=False` in `launch()` explicitly).\n",
            "\n",
            "Colab notebook detected. To show errors in colab notebook, set debug=True in launch()\n",
            "Running on public URL: https://e300612787d183b112.gradio.live\n",
            "\n",
            "This share link expires in 72 hours. For free permanent hosting and GPU upgrades, run `gradio deploy` from Terminal to deploy to Spaces (https://huggingface.co/spaces)\n"
          ]
        },
        {
          "output_type": "display_data",
          "data": {
            "text/plain": [
              "<IPython.core.display.HTML object>"
            ],
            "text/html": [
              "<div><iframe src=\"https://e300612787d183b112.gradio.live\" width=\"100%\" height=\"500\" allow=\"autoplay; camera; microphone; clipboard-read; clipboard-write;\" frameborder=\"0\" allowfullscreen></iframe></div>"
            ]
          },
          "metadata": {}
        },
        {
          "output_type": "execute_result",
          "data": {
            "text/plain": []
          },
          "metadata": {},
          "execution_count": 25
        }
      ]
    },
    {
      "cell_type": "code",
      "source": [],
      "metadata": {
        "id": "nLqUpnXR1ZDh"
      },
      "execution_count": null,
      "outputs": []
    }
  ],
  "metadata": {
    "kaggle": {
      "accelerator": "gpu",
      "dataSources": [
        {
          "datasetId": 4758440,
          "sourceId": 8065627,
          "sourceType": "datasetVersion"
        },
        {
          "datasetId": 4758543,
          "sourceId": 8065761,
          "sourceType": "datasetVersion"
        },
        {
          "datasetId": 4759977,
          "sourceId": 8067728,
          "sourceType": "datasetVersion"
        }
      ],
      "dockerImageVersionId": 30674,
      "isGpuEnabled": true,
      "isInternetEnabled": true,
      "language": "python",
      "sourceType": "notebook"
    },
    "kernelspec": {
      "display_name": "Python 3",
      "name": "python3"
    },
    "language_info": {
      "codemirror_mode": {
        "name": "ipython",
        "version": 3
      },
      "file_extension": ".py",
      "mimetype": "text/x-python",
      "name": "python",
      "nbconvert_exporter": "python",
      "pygments_lexer": "ipython3",
      "version": "3.9.12"
    },
    "colab": {
      "provenance": [],
      "gpuType": "T4",
      "include_colab_link": true
    },
    "accelerator": "GPU"
  },
  "nbformat": 4,
  "nbformat_minor": 0
}